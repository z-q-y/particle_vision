{
 "cells": [
  {
   "cell_type": "code",
   "execution_count": 1,
   "metadata": {
    "colab": {
     "base_uri": "https://localhost:8080/",
     "height": 121
    },
    "colab_type": "code",
    "id": "PbME04QUP1ZJ",
    "outputId": "d373816b-fd11-4749-b92f-b69f61ec47d1"
   },
   "outputs": [],
   "source": [
    "# from google.colab import drive\n",
    "# drive.mount('/content/drive')"
   ]
  },
  {
   "cell_type": "code",
   "execution_count": 1,
   "metadata": {
    "colab": {
     "base_uri": "https://localhost:8080/",
     "height": 370
    },
    "colab_type": "code",
    "id": "TFOJeQftvKl7",
    "outputId": "d0516242-db60-4e16-87f6-de2720469cfb"
   },
   "outputs": [],
   "source": [
    "# !pip install python-resize-image"
   ]
  },
  {
   "cell_type": "code",
   "execution_count": 2,
   "metadata": {
    "colab": {},
    "colab_type": "code",
    "id": "LmajYGVSQCgr"
   },
   "outputs": [
    {
     "name": "stderr",
     "output_type": "stream",
     "text": [
      "Using TensorFlow backend.\n"
     ]
    }
   ],
   "source": [
    "import numpy as np \n",
    "import matplotlib.pyplot as plt\n",
    "import matplotlib.image as mpimg\n",
    "from keras.preprocessing.image import img_to_array\n",
    "from keras.preprocessing.image import array_to_img\n",
    "from PIL import Image\n",
    "import glob\n",
    "import csv\n",
    "import tensorflow as tf\n",
    "from keras import regularizers\n",
    "from resizeimage import resizeimage"
   ]
  },
  {
   "cell_type": "code",
   "execution_count": 3,
   "metadata": {
    "colab": {},
    "colab_type": "code",
    "id": "6_prkszxG8dj"
   },
   "outputs": [],
   "source": [
    "def load_images(path):\n",
    "    image_list = []\n",
    " \n",
    "    count=0\n",
    "    for filename in glob.glob(path): \n",
    "        im=Image.open(filename)\n",
    "        #cover = resizeimage.resize_cover(im, [150, 200])\n",
    "        #image_list.append([filename[::-1][:filename[::-1].find('\\\\')][::-1],cover])\n",
    "        image_list.append([filename[::-1][:filename[::-1].find('\\\\')][::-1],im])\n",
    "        count+=1\n",
    "        \n",
    "    #print(count)\n",
    "    #print(len(image_list))\n",
    "    #print(image_list[5])\n",
    "    \n",
    "    return image_list"
   ]
  },
  {
   "cell_type": "code",
   "execution_count": 30,
   "metadata": {},
   "outputs": [],
   "source": [
    "def array_to_image(img_list):\n",
    "    img_array = []\n",
    "    for i in range(len(img_list)):\n",
    "        cover = array_to_img(img_list[i])\n",
    "        cover = resizeimage.resize_cover(cover, [100, 150])\n",
    "        img_array.append(img_to_array(cover))\n",
    "       \n",
    "  \n",
    "    img_array = np.array(img_array)\n",
    "    \n",
    "    return img_array"
   ]
  },
  {
   "cell_type": "code",
   "execution_count": 4,
   "metadata": {
    "colab": {},
    "colab_type": "code",
    "id": "L1owNBSDIWjv"
   },
   "outputs": [],
   "source": [
    "def image_to_array(img_list):\n",
    "    img_array = []\n",
    "    for i in range(len(img_list)):\n",
    "        img_array.append(img_to_array(img_list[i][1]))\n",
    "\n",
    "    img_array = np.array(img_array)\n",
    "    \n",
    "    return img_array"
   ]
  },
  {
   "cell_type": "code",
   "execution_count": 5,
   "metadata": {
    "colab": {},
    "colab_type": "code",
    "id": "mKO-t9SxOW8l"
   },
   "outputs": [],
   "source": [
    "def parse_meta_data(path):\n",
    "    rows = []\n",
    "    with open(path) as csv_file:\n",
    "        csv_reader = csv.reader(csv_file, delimiter=',')\n",
    "        line_count = 0\n",
    "        for row in csv_reader:\n",
    "            if line_count == 0:\n",
    "                  line_count += 1\n",
    "            else:\n",
    "                  rows.append(row)\n",
    "\n",
    "    meta_data = {}\n",
    "    for i in range(len(rows)):\n",
    "        meta_data[rows[i][0]+'.bmp'] = rows[i][-1]\n",
    "      \n",
    "    return meta_data"
   ]
  },
  {
   "cell_type": "code",
   "execution_count": 6,
   "metadata": {
    "colab": {},
    "colab_type": "code",
    "id": "JvWg2fTjRzsC"
   },
   "outputs": [],
   "source": [
    "def get_train_data(meta_data,img_list):\n",
    "    ratings = []\n",
    "    img_array = []\n",
    "    for i in range(len(img_list)):\n",
    "        ratings.append(float(meta_data[img_list[i][0]]))\n",
    "        img_array.append(img_to_array(img_list[i][1]))\n",
    "    ratings = np.array(ratings)\n",
    "    img_array = np.array(img_array)\n",
    "    return img_array,ratings"
   ]
  },
  {
   "cell_type": "code",
   "execution_count": 7,
   "metadata": {
    "colab": {},
    "colab_type": "code",
    "id": "XFOJqQIuHcxf"
   },
   "outputs": [],
   "source": [
    "train_image_list = load_images('StudentData/train/*.bmp')\n",
    "test_image_list = load_images('StudentData/test/*.bmp')\n",
    "train_meta_data = parse_meta_data('StudentData/train_scores.csv')\n",
    "\n",
    "x_train,y_train = get_train_data(train_meta_data,train_image_list)\n",
    "x_test = image_to_array(test_image_list)"
   ]
  },
  {
   "cell_type": "code",
   "execution_count": 8,
   "metadata": {},
   "outputs": [
    {
     "data": {
      "text/plain": [
       "(197, 710, 512, 1)"
      ]
     },
     "execution_count": 8,
     "metadata": {},
     "output_type": "execute_result"
    }
   ],
   "source": [
    "x_train.shape"
   ]
  },
  {
   "cell_type": "code",
   "execution_count": 9,
   "metadata": {},
   "outputs": [
    {
     "data": {
      "text/plain": [
       "['0024ad48c2d69a9da845b4052a000803e7391163.bmp',\n",
       " <PIL.BmpImagePlugin.BmpImageFile image mode=L size=512x710 at 0x1CB7FC082E8>]"
      ]
     },
     "execution_count": 9,
     "metadata": {},
     "output_type": "execute_result"
    }
   ],
   "source": [
    "train_image_list[0] "
   ]
  },
  {
   "cell_type": "code",
   "execution_count": 10,
   "metadata": {
    "colab": {
     "base_uri": "https://localhost:8080/",
     "height": 34
    },
    "colab_type": "code",
    "id": "pZDT3EqdvVJ5",
    "outputId": "59188f15-a3db-476c-a44f-d98eb8cb2430"
   },
   "outputs": [
    {
     "data": {
      "text/plain": [
       "(197, 710, 512, 1)"
      ]
     },
     "execution_count": 10,
     "metadata": {},
     "output_type": "execute_result"
    }
   ],
   "source": [
    "# x_test[0].shape\n",
    "x_train.shape"
   ]
  },
  {
   "cell_type": "code",
   "execution_count": 11,
   "metadata": {},
   "outputs": [
    {
     "data": {
      "text/plain": [
       "array([[[ 19.],\n",
       "        [ 20.],\n",
       "        [ 23.],\n",
       "        ...,\n",
       "        [  0.],\n",
       "        [  0.],\n",
       "        [  0.]],\n",
       "\n",
       "       [[ 21.],\n",
       "        [ 20.],\n",
       "        [ 21.],\n",
       "        ...,\n",
       "        [  0.],\n",
       "        [  0.],\n",
       "        [  0.]],\n",
       "\n",
       "       [[ 18.],\n",
       "        [ 19.],\n",
       "        [ 18.],\n",
       "        ...,\n",
       "        [  0.],\n",
       "        [  0.],\n",
       "        [  0.]],\n",
       "\n",
       "       ...,\n",
       "\n",
       "       [[ 30.],\n",
       "        [ 34.],\n",
       "        [ 38.],\n",
       "        ...,\n",
       "        [  0.],\n",
       "        [  0.],\n",
       "        [  0.]],\n",
       "\n",
       "       [[ 64.],\n",
       "        [ 80.],\n",
       "        [ 99.],\n",
       "        ...,\n",
       "        [  0.],\n",
       "        [  0.],\n",
       "        [  0.]],\n",
       "\n",
       "       [[255.],\n",
       "        [255.],\n",
       "        [255.],\n",
       "        ...,\n",
       "        [  0.],\n",
       "        [  0.],\n",
       "        [  0.]]], dtype=float32)"
      ]
     },
     "execution_count": 11,
     "metadata": {},
     "output_type": "execute_result"
    }
   ],
   "source": [
    "x_train[:][:][196]"
   ]
  },
  {
   "cell_type": "code",
   "execution_count": 20,
   "metadata": {},
   "outputs": [],
   "source": [
    "def cropImage(im):\n",
    "    # brute force state function to find size of left pipe\n",
    "\n",
    "\n",
    "    allWidth = list()\n",
    "    allStart = list()\n",
    "\n",
    "    allPipeWidth = []\n",
    "    \n",
    "    for row in range(0,710):\n",
    "\n",
    "        done = False\n",
    "        col = 511\n",
    "\n",
    "        while not done:\n",
    "\n",
    "            if im[row, col] != 0:\n",
    "\n",
    "                allStart.append(col)\n",
    "                inPipe = True\n",
    "                n = 1\n",
    "\n",
    "                while inPipe:\n",
    "\n",
    "                    col -= 1\n",
    "\n",
    "                    if 0.7*im[row,col+1] <= im[row,col] <= 1.3*im[row,col+1]:\n",
    "                        n += 1\n",
    "                    else:\n",
    "                        inPipe = False\n",
    "                        allPipeWidth.append(n) \n",
    "                        done = True\n",
    "\n",
    "            else:\n",
    "                col -= 1        \n",
    "                \n",
    "    mean = np.average(allPipeWidth)\n",
    "    std = np.std(allPipeWidth)\n",
    "    #print(mean, std)\n",
    "\n",
    "    # I know the answer is around 45 from image processing, so let's remove some outliers\n",
    "\n",
    "    M = len(allPipeWidth)\n",
    "    n = 0\n",
    "    while n < M:\n",
    "        if allPipeWidth[n] <= (mean - std) or allPipeWidth[n] >= (mean + std):\n",
    "            del allPipeWidth[n]\n",
    "        M = len(allPipeWidth)\n",
    "        n +=1\n",
    "\n",
    "    mean = np.average(allPipeWidth)\n",
    "    std = np.std(allPipeWidth)\n",
    "    #print(mean, std)\n",
    "\n",
    "    for row in range(0,710):\n",
    "        im[row,allStart[row]-int(mean+1):allStart[row]] = 0.0\n",
    "\n",
    "    return im"
   ]
  },
  {
   "cell_type": "code",
   "execution_count": 39,
   "metadata": {},
   "outputs": [],
   "source": [
    "def CropImageandResize(x_train):\n",
    "    x_train_cropped = []\n",
    "    for i in range(0, x_train.shape[0]):\n",
    "        ele = np.squeeze(x_train[:][:][i], axis=2)\n",
    "        ele_cropped = cropImage(ele)\n",
    "        ele_3d = np.expand_dims(ele_cropped, axis=2)\n",
    "        x_train_cropped.append(ele_3d)\n",
    "    \n",
    "    x_train_cropped = np.asarray(x_train_cropped)\n",
    "    x_train_cr = array_to_image(x_train_cropped)\n",
    "    \n",
    "    return x_train_cr\n",
    "    "
   ]
  },
  {
   "cell_type": "code",
   "execution_count": 40,
   "metadata": {},
   "outputs": [],
   "source": [
    "x_train_t = CropImageandResize(x_train)"
   ]
  },
  {
   "cell_type": "code",
   "execution_count": 41,
   "metadata": {},
   "outputs": [],
   "source": [
    "x_test_t = CropImageandResize(x_test)"
   ]
  },
  {
   "cell_type": "code",
   "execution_count": 42,
   "metadata": {},
   "outputs": [
    {
     "data": {
      "text/plain": [
       "(197, 150, 100, 1)"
      ]
     },
     "execution_count": 42,
     "metadata": {},
     "output_type": "execute_result"
    }
   ],
   "source": [
    "x_train_t.shape"
   ]
  },
  {
   "cell_type": "code",
   "execution_count": 43,
   "metadata": {},
   "outputs": [
    {
     "data": {
      "text/plain": [
       "(99, 150, 100, 1)"
      ]
     },
     "execution_count": 43,
     "metadata": {},
     "output_type": "execute_result"
    }
   ],
   "source": [
    "x_test_t.shape"
   ]
  },
  {
   "cell_type": "code",
   "execution_count": null,
   "metadata": {},
   "outputs": [],
   "source": []
  },
  {
   "cell_type": "code",
   "execution_count": null,
   "metadata": {},
   "outputs": [],
   "source": []
  },
  {
   "cell_type": "code",
   "execution_count": null,
   "metadata": {},
   "outputs": [],
   "source": []
  },
  {
   "cell_type": "code",
   "execution_count": 22,
   "metadata": {},
   "outputs": [
    {
     "name": "stdout",
     "output_type": "stream",
     "text": [
      "197 710 512 1\n"
     ]
    }
   ],
   "source": [
    "print(len(x_train_cropped), len(x_train_cropped[0]), len(x_train_cropped[0][0]), len(x_train_cropped[0][0][0]))"
   ]
  },
  {
   "cell_type": "code",
   "execution_count": 23,
   "metadata": {},
   "outputs": [],
   "source": []
  },
  {
   "cell_type": "code",
   "execution_count": 24,
   "metadata": {},
   "outputs": [
    {
     "data": {
      "text/plain": [
       "(197, 710, 512, 1)"
      ]
     },
     "execution_count": 24,
     "metadata": {},
     "output_type": "execute_result"
    }
   ],
   "source": [
    "x_train_cropped.shape"
   ]
  },
  {
   "cell_type": "code",
   "execution_count": 31,
   "metadata": {},
   "outputs": [],
   "source": [
    "\n"
   ]
  },
  {
   "cell_type": "code",
   "execution_count": 32,
   "metadata": {},
   "outputs": [
    {
     "data": {
      "text/plain": [
       "(197, 150, 100, 1)"
      ]
     },
     "execution_count": 32,
     "metadata": {},
     "output_type": "execute_result"
    }
   ],
   "source": [
    "x_train_cr.shape"
   ]
  },
  {
   "cell_type": "code",
   "execution_count": null,
   "metadata": {},
   "outputs": [],
   "source": []
  },
  {
   "cell_type": "code",
   "execution_count": null,
   "metadata": {},
   "outputs": [],
   "source": []
  },
  {
   "cell_type": "code",
   "execution_count": null,
   "metadata": {},
   "outputs": [],
   "source": []
  },
  {
   "cell_type": "code",
   "execution_count": null,
   "metadata": {},
   "outputs": [],
   "source": []
  },
  {
   "cell_type": "code",
   "execution_count": null,
   "metadata": {},
   "outputs": [],
   "source": []
  },
  {
   "cell_type": "code",
   "execution_count": null,
   "metadata": {},
   "outputs": [],
   "source": []
  },
  {
   "cell_type": "code",
   "execution_count": null,
   "metadata": {},
   "outputs": [],
   "source": []
  },
  {
   "cell_type": "code",
   "execution_count": null,
   "metadata": {},
   "outputs": [],
   "source": []
  },
  {
   "cell_type": "code",
   "execution_count": null,
   "metadata": {},
   "outputs": [],
   "source": []
  },
  {
   "cell_type": "code",
   "execution_count": null,
   "metadata": {},
   "outputs": [],
   "source": []
  },
  {
   "cell_type": "code",
   "execution_count": null,
   "metadata": {},
   "outputs": [],
   "source": []
  },
  {
   "cell_type": "code",
   "execution_count": null,
   "metadata": {},
   "outputs": [],
   "source": []
  },
  {
   "cell_type": "code",
   "execution_count": null,
   "metadata": {},
   "outputs": [],
   "source": []
  },
  {
   "cell_type": "code",
   "execution_count": null,
   "metadata": {},
   "outputs": [],
   "source": []
  },
  {
   "cell_type": "code",
   "execution_count": null,
   "metadata": {},
   "outputs": [],
   "source": []
  },
  {
   "cell_type": "code",
   "execution_count": 36,
   "metadata": {
    "colab": {},
    "colab_type": "code",
    "id": "8jy-_k66YYy9"
   },
   "outputs": [],
   "source": [
    "model1=tf.keras.models.Sequential([\n",
    "    \n",
    "    tf.keras.layers.Conv2D(64,(3,3),activation='relu',input_shape=(150,100,1)),\n",
    "    tf.keras.layers.Conv2D(64,(3,3),activation='relu'),\n",
    "    tf.keras.layers.MaxPooling2D(pool_size=(3,3),strides=[3,3]),\n",
    "\n",
    "    tf.keras.layers.Conv2D(32,(3,3),activation='relu'),\n",
    "    tf.keras.layers.Conv2D(32,(3,3),activation='relu'),\n",
    "    tf.keras.layers.MaxPooling2D(pool_size=(2,2),strides=[2,2]),\n",
    "    #tf.keras.layers.Dropout(0.4),\n",
    "\n",
    "    tf.keras.layers.Flatten(),\n",
    "       \n",
    "    tf.keras.layers.Dense(256,activation='relu'),\n",
    "    tf.keras.layers.Dense(128,activation='relu'),\n",
    "    #tf.keras.layers.Dropout(0.4),\n",
    "    tf.keras.layers.Dense(1)\n",
    "])"
   ]
  },
  {
   "cell_type": "code",
   "execution_count": 37,
   "metadata": {
    "colab": {
     "base_uri": "https://localhost:8080/",
     "height": 34
    },
    "colab_type": "code",
    "id": "MNS7sEkUaIMO",
    "outputId": "2dba028c-0397-457a-9c2d-5341af7c1c81"
   },
   "outputs": [
    {
     "name": "stdout",
     "output_type": "stream",
     "text": [
      "Train on 187 samples, validate on 10 samples\n",
      "Epoch 1/50\n",
      "187/187 [==============================] - 12s 65ms/sample - loss: 46.7418 - mean_absolute_error: 5.0138 - val_loss: 11.0477 - val_mean_absolute_error: 2.6439\n",
      "Epoch 2/50\n",
      "187/187 [==============================] - 11s 60ms/sample - loss: 5.9786 - mean_absolute_error: 1.9944 - val_loss: 3.5272 - val_mean_absolute_error: 1.5769\n",
      "Epoch 3/50\n",
      "187/187 [==============================] - 12s 65ms/sample - loss: 4.5269 - mean_absolute_error: 1.7059 - val_loss: 4.1760 - val_mean_absolute_error: 1.6858\n",
      "Epoch 4/50\n",
      "187/187 [==============================] - 11s 58ms/sample - loss: 3.6224 - mean_absolute_error: 1.5553 - val_loss: 2.6099 - val_mean_absolute_error: 1.4270\n",
      "Epoch 5/50\n",
      "187/187 [==============================] - 11s 60ms/sample - loss: 3.0880 - mean_absolute_error: 1.4280 - val_loss: 2.6867 - val_mean_absolute_error: 1.2851\n",
      "Epoch 6/50\n",
      "187/187 [==============================] - 11s 60ms/sample - loss: 2.6822 - mean_absolute_error: 1.3159 - val_loss: 2.5948 - val_mean_absolute_error: 1.2795\n",
      "Epoch 7/50\n",
      "187/187 [==============================] - 11s 58ms/sample - loss: 1.8680 - mean_absolute_error: 1.0761 - val_loss: 2.1665 - val_mean_absolute_error: 1.3627\n",
      "Epoch 8/50\n",
      "187/187 [==============================] - 11s 57ms/sample - loss: 2.1077 - mean_absolute_error: 1.1789 - val_loss: 3.7018 - val_mean_absolute_error: 1.5346\n",
      "Epoch 9/50\n",
      "187/187 [==============================] - 11s 57ms/sample - loss: 1.7299 - mean_absolute_error: 1.0003 - val_loss: 2.0928 - val_mean_absolute_error: 1.1974\n",
      "Epoch 10/50\n",
      "187/187 [==============================] - 12s 62ms/sample - loss: 1.2378 - mean_absolute_error: 0.8456 - val_loss: 1.7840 - val_mean_absolute_error: 1.1598\n",
      "Epoch 11/50\n",
      "187/187 [==============================] - 12s 65ms/sample - loss: 1.2416 - mean_absolute_error: 0.9065 - val_loss: 1.4024 - val_mean_absolute_error: 1.0867\n",
      "Epoch 12/50\n",
      "187/187 [==============================] - 12s 62ms/sample - loss: 0.8408 - mean_absolute_error: 0.7247 - val_loss: 1.2490 - val_mean_absolute_error: 0.9983\n",
      "Epoch 13/50\n",
      "187/187 [==============================] - 11s 57ms/sample - loss: 0.7659 - mean_absolute_error: 0.6794 - val_loss: 1.4467 - val_mean_absolute_error: 1.1053\n",
      "Epoch 14/50\n",
      "187/187 [==============================] - 10s 56ms/sample - loss: 0.7126 - mean_absolute_error: 0.6704 - val_loss: 0.9884 - val_mean_absolute_error: 0.9186\n",
      "Epoch 15/50\n",
      "187/187 [==============================] - 10s 55ms/sample - loss: 0.5519 - mean_absolute_error: 0.5634 - val_loss: 0.7699 - val_mean_absolute_error: 0.7792\n",
      "Epoch 16/50\n",
      "187/187 [==============================] - 11s 58ms/sample - loss: 0.3979 - mean_absolute_error: 0.4945 - val_loss: 0.6936 - val_mean_absolute_error: 0.7951\n",
      "Epoch 17/50\n",
      "187/187 [==============================] - 11s 56ms/sample - loss: 0.3029 - mean_absolute_error: 0.3987 - val_loss: 0.7079 - val_mean_absolute_error: 0.7560\n",
      "Epoch 18/50\n",
      "187/187 [==============================] - 11s 58ms/sample - loss: 0.2384 - mean_absolute_error: 0.3662 - val_loss: 0.6758 - val_mean_absolute_error: 0.6415\n",
      "Epoch 19/50\n",
      "187/187 [==============================] - 11s 58ms/sample - loss: 0.2301 - mean_absolute_error: 0.3579 - val_loss: 0.7766 - val_mean_absolute_error: 0.8296\n",
      "Epoch 20/50\n",
      "187/187 [==============================] - 10s 55ms/sample - loss: 0.1509 - mean_absolute_error: 0.2947 - val_loss: 0.5163 - val_mean_absolute_error: 0.6821\n",
      "Epoch 21/50\n",
      "187/187 [==============================] - 10s 56ms/sample - loss: 0.1466 - mean_absolute_error: 0.2778 - val_loss: 0.7969 - val_mean_absolute_error: 0.8223\n",
      "Epoch 22/50\n",
      "187/187 [==============================] - 10s 56ms/sample - loss: 0.1176 - mean_absolute_error: 0.2597 - val_loss: 0.6190 - val_mean_absolute_error: 0.7064\n",
      "Epoch 23/50\n",
      "187/187 [==============================] - 10s 55ms/sample - loss: 0.0896 - mean_absolute_error: 0.2114 - val_loss: 0.8167 - val_mean_absolute_error: 0.7780\n",
      "Epoch 24/50\n",
      "187/187 [==============================] - 10s 56ms/sample - loss: 0.0899 - mean_absolute_error: 0.2197 - val_loss: 0.4797 - val_mean_absolute_error: 0.6280\n",
      "Epoch 25/50\n",
      "187/187 [==============================] - 11s 60ms/sample - loss: 0.0710 - mean_absolute_error: 0.1944 - val_loss: 0.6416 - val_mean_absolute_error: 0.7246\n",
      "Epoch 26/50\n",
      "187/187 [==============================] - 11s 58ms/sample - loss: 0.0903 - mean_absolute_error: 0.2136 - val_loss: 0.7275 - val_mean_absolute_error: 0.7519\n",
      "Epoch 27/50\n",
      "187/187 [==============================] - 11s 61ms/sample - loss: 0.0767 - mean_absolute_error: 0.2089 - val_loss: 0.9183 - val_mean_absolute_error: 0.7857\n",
      "Epoch 28/50\n",
      "187/187 [==============================] - 11s 58ms/sample - loss: 0.0855 - mean_absolute_error: 0.2348 - val_loss: 0.8424 - val_mean_absolute_error: 0.7765\n",
      "Epoch 29/50\n",
      "187/187 [==============================] - 10s 56ms/sample - loss: 0.0767 - mean_absolute_error: 0.1934 - val_loss: 0.5720 - val_mean_absolute_error: 0.6696\n",
      "Epoch 30/50\n",
      "187/187 [==============================] - 10s 56ms/sample - loss: 0.0612 - mean_absolute_error: 0.1798 - val_loss: 0.7397 - val_mean_absolute_error: 0.7858\n",
      "Epoch 31/50\n",
      "187/187 [==============================] - 11s 56ms/sample - loss: 0.0432 - mean_absolute_error: 0.1461 - val_loss: 0.5791 - val_mean_absolute_error: 0.6850\n",
      "Epoch 32/50\n",
      "187/187 [==============================] - 11s 56ms/sample - loss: 0.0522 - mean_absolute_error: 0.1611 - val_loss: 0.9774 - val_mean_absolute_error: 0.8300\n",
      "Epoch 33/50\n",
      "187/187 [==============================] - 11s 57ms/sample - loss: 0.0398 - mean_absolute_error: 0.1529 - val_loss: 0.6271 - val_mean_absolute_error: 0.6892\n",
      "Epoch 34/50\n",
      "187/187 [==============================] - 11s 57ms/sample - loss: 0.0386 - mean_absolute_error: 0.1337 - val_loss: 0.7137 - val_mean_absolute_error: 0.7789\n",
      "Epoch 35/50\n",
      "187/187 [==============================] - 11s 57ms/sample - loss: 0.0553 - mean_absolute_error: 0.1786 - val_loss: 0.5213 - val_mean_absolute_error: 0.6638\n",
      "Epoch 36/50\n",
      "187/187 [==============================] - 11s 61ms/sample - loss: 0.0693 - mean_absolute_error: 0.2106 - val_loss: 0.7203 - val_mean_absolute_error: 0.7776\n",
      "Epoch 37/50\n",
      "187/187 [==============================] - 10s 55ms/sample - loss: 0.0507 - mean_absolute_error: 0.1798 - val_loss: 0.6579 - val_mean_absolute_error: 0.7427\n",
      "Epoch 38/50\n",
      "187/187 [==============================] - 10s 55ms/sample - loss: 0.0289 - mean_absolute_error: 0.1250 - val_loss: 0.8732 - val_mean_absolute_error: 0.8181\n",
      "Epoch 39/50\n",
      "187/187 [==============================] - 11s 58ms/sample - loss: 0.0345 - mean_absolute_error: 0.1381 - val_loss: 0.8071 - val_mean_absolute_error: 0.7712\n",
      "Epoch 40/50\n",
      "187/187 [==============================] - 10s 56ms/sample - loss: 0.0242 - mean_absolute_error: 0.1104 - val_loss: 0.7111 - val_mean_absolute_error: 0.7504\n",
      "Epoch 41/50\n",
      "187/187 [==============================] - 11s 56ms/sample - loss: 0.0174 - mean_absolute_error: 0.0993 - val_loss: 0.6683 - val_mean_absolute_error: 0.7294\n",
      "Epoch 42/50\n",
      "187/187 [==============================] - 10s 55ms/sample - loss: 0.0118 - mean_absolute_error: 0.0831 - val_loss: 0.8010 - val_mean_absolute_error: 0.7962\n",
      "Epoch 43/50\n",
      "187/187 [==============================] - 10s 55ms/sample - loss: 0.0112 - mean_absolute_error: 0.0726 - val_loss: 0.6475 - val_mean_absolute_error: 0.7184\n",
      "Epoch 44/50\n",
      "187/187 [==============================] - 10s 55ms/sample - loss: 0.0068 - mean_absolute_error: 0.0592 - val_loss: 0.7901 - val_mean_absolute_error: 0.7847\n",
      "Epoch 45/50\n",
      "187/187 [==============================] - 10s 54ms/sample - loss: 0.0088 - mean_absolute_error: 0.0642 - val_loss: 0.6537 - val_mean_absolute_error: 0.7226\n",
      "Epoch 46/50\n",
      "187/187 [==============================] - 10s 54ms/sample - loss: 0.0064 - mean_absolute_error: 0.0495 - val_loss: 0.7173 - val_mean_absolute_error: 0.7553\n",
      "Epoch 47/50\n",
      "187/187 [==============================] - 10s 56ms/sample - loss: 0.0053 - mean_absolute_error: 0.0441 - val_loss: 0.6937 - val_mean_absolute_error: 0.7551\n",
      "Epoch 48/50\n",
      "187/187 [==============================] - 11s 59ms/sample - loss: 0.0051 - mean_absolute_error: 0.0421 - val_loss: 0.6900 - val_mean_absolute_error: 0.7434\n",
      "Epoch 49/50\n",
      "187/187 [==============================] - 10s 55ms/sample - loss: 0.0034 - mean_absolute_error: 0.0345 - val_loss: 0.7090 - val_mean_absolute_error: 0.7493\n",
      "Epoch 50/50\n",
      "187/187 [==============================] - 11s 56ms/sample - loss: 0.0029 - mean_absolute_error: 0.0297 - val_loss: 0.6632 - val_mean_absolute_error: 0.7324\n"
     ]
    },
    {
     "data": {
      "text/plain": [
       "<tensorflow.python.keras.callbacks.History at 0x1cb02431cc0>"
      ]
     },
     "execution_count": 37,
     "metadata": {},
     "output_type": "execute_result"
    }
   ],
   "source": [
    "reduce =tf. keras.callbacks.ReduceLROnPlateau(monitor='val_loss', factor=0.1, patience=10, mode='auto')\n",
    "loss=tf.keras.losses.Huber()\n",
    "#early = tf.keras.callbacks.EarlyStopping(monitor='val_loss', min_delta=1e-4, patience=10, mode='auto')\n",
    "model1.compile(optimizer='adam',loss='mean_squared_error',metrics=['mae'])\n",
    "model1.fit(x_train_cr, y_train, batch_size=32, epochs=50, verbose=1, callbacks=None, validation_split=0.05, shuffle=True,use_multiprocessing=True)"
   ]
  },
  {
   "cell_type": "code",
   "execution_count": 45,
   "metadata": {
    "colab": {},
    "colab_type": "code",
    "id": "GZd62uMEf4OZ"
   },
   "outputs": [],
   "source": [
    "train_pred = model1.predict(x_train_cr)"
   ]
  },
  {
   "cell_type": "code",
   "execution_count": 46,
   "metadata": {
    "colab": {},
    "colab_type": "code",
    "id": "KTrZhrYHgJlH"
   },
   "outputs": [],
   "source": [
    "true_mean = np.mean(y_train)\n",
    "upper = 0\n",
    "lower = 0\n",
    "for i in range(len(y_train)):\n",
    "    upper = upper + (np.square(y_train[i]-train_pred[i]))\n",
    "    lower = lower + (np.square(y_train[i] - true_mean))\n",
    "r_squared = 1 - (upper[0]/lower)"
   ]
  },
  {
   "cell_type": "code",
   "execution_count": 47,
   "metadata": {
    "colab": {
     "base_uri": "https://localhost:8080/",
     "height": 34
    },
    "colab_type": "code",
    "id": "0nvAigL6he_x",
    "outputId": "b55d7c63-b07a-4184-e74c-a498c4ec6a77"
   },
   "outputs": [
    {
     "data": {
      "text/plain": [
       "0.9896748038936335"
      ]
     },
     "execution_count": 47,
     "metadata": {},
     "output_type": "execute_result"
    }
   ],
   "source": [
    "r_squared"
   ]
  },
  {
   "cell_type": "code",
   "execution_count": 50,
   "metadata": {
    "colab": {},
    "colab_type": "code",
    "id": "QgjjeDpLn7K_"
   },
   "outputs": [],
   "source": [
    "test_pred = model1.predict(x_test_t)"
   ]
  },
  {
   "cell_type": "code",
   "execution_count": 51,
   "metadata": {
    "colab": {},
    "colab_type": "code",
    "id": "Cm3bkYYxjBLZ"
   },
   "outputs": [],
   "source": [
    "with open('team13submission.csv', 'w') as file:\n",
    "    file.write('image,total_rating\\n')\n",
    "    for i in range(len(x_test)):\n",
    "        file.write(str(test_image_list[i][0][:-4])+','+str(test_pred[i][0])+'\\n')"
   ]
  },
  {
   "cell_type": "code",
   "execution_count": null,
   "metadata": {},
   "outputs": [],
   "source": []
  }
 ],
 "metadata": {
  "accelerator": "GPU",
  "colab": {
   "collapsed_sections": [],
   "name": "Hackathon.ipynb",
   "provenance": []
  },
  "kernelspec": {
   "display_name": "Python 3",
   "language": "python",
   "name": "python3"
  },
  "language_info": {
   "codemirror_mode": {
    "name": "ipython",
    "version": 3
   },
   "file_extension": ".py",
   "mimetype": "text/x-python",
   "name": "python",
   "nbconvert_exporter": "python",
   "pygments_lexer": "ipython3",
   "version": "3.6.8"
  }
 },
 "nbformat": 4,
 "nbformat_minor": 1
}
